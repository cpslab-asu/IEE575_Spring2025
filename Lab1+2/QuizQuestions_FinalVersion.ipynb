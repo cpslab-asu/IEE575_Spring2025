{
  "nbformat": 4,
  "nbformat_minor": 0,
  "metadata": {
    "colab": {
      "provenance": [],
      "toc_visible": true
    },
    "kernelspec": {
      "name": "python3",
      "display_name": "Python 3"
    },
    "language_info": {
      "name": "python"
    }
  },
  "cells": [
    {
      "cell_type": "markdown",
      "source": [
        "# Instructions\n",
        "\n",
        "1. All the questions for the test will be provided in a Python Notebook which will be uploaded in the Lab Repository before the exam time:\n",
        "You will be expected to run the notebook in Google Colab since it helps us avoid setup and installation issues.\n",
        "2. There will be questions that require coding or justification. You are expected to code and justify in the Python notebook.\n",
        "3. You will have approximately 75 minutes for the exam including submission of the files on Canvas and the test will be for a total of 100 points. The breakdown of the points is provided in shown below.\n",
        "4. Please ensure you arrive on time to make sure you have everything set up.\n",
        "5. This is an Open Internet test.\n",
        "\n",
        "---\n",
        "\n",
        "## Submission Details:\n",
        "\n",
        "Once you have completed your test, you will upload two files in the `Module 3 Quiz Work Upload` link.\n",
        "\n",
        "(`Go to Modules -> Exam Spring 2024 Instructions and uploads -> Module 3 Quiz Work Upload`).\n",
        "\n",
        "You will submit two files:\n",
        "  1. Notebook file\n",
        "  2. Generated PDF file.\n",
        "\n",
        "1. To generate the Notebook File from Google Colab:\n",
        "  1. Click on `File`.\n",
        "  2. Click on `Download`.\n",
        "  3. Click on `Download .ipynb`.\n",
        "  4. Save the file with the following name: `IEE575_Module3_<STUDENT_ID>_Notebook`.\n",
        "\n",
        "  **(Note: This will be saved with the following file extension: .ipynb)**\n",
        "2. To generate the PDF File from Google Colab:\n",
        "  1. Click on `File`.\n",
        "  2. Click on `Print`.\n",
        "  3. Save the file with the following name: `IEE575_Module3_<STUDENT_ID>_Report`.\n",
        "  **(Note: This will be saved with the following file extension: .pdf)**\n",
        "\n",
        "---\n",
        "\n",
        "## Points Breakdown:\n",
        "\n",
        "| Question |          Concept          | Type | Marks (Total 100 Points) |\n",
        "|:--------:|:-------------------------:|:----:|:------------------------:|\n",
        "|   1.1A   | Multivariate Distribution | Code |            10            |\n",
        "|   1.1B   | Multivariate Distribution | Text |            10            |\n",
        "|   1.2A   | Multivariate Distribution | Text |            10            |\n",
        "|   1.2B   | Multivariate Distribution | Code |            10            |\n",
        "|   1.2C   | Multivariate Distribution | Text |            10            |\n",
        "|    2.1   |           1D GPR          | Code |             5            |\n",
        "|    2.2   |           1D GPR          | Text |             5            |\n",
        "|    2.3   |           1D GPR          | Code |            10            |\n",
        "|    3.1   |      Plot 2d Function     | Code |            10            |\n",
        "|   3.2A   |           2D GPR          | Code |             5            |\n",
        "|   3.2B   |           2D GPR          | Text |             5            |\n",
        "|   3.2C   |           2D GPR          | Code |            10            |\n",
        "\n",
        "\n",
        "\n"
      ],
      "metadata": {
        "id": "eUqjf6gHn2L6"
      }
    },
    {
      "cell_type": "code",
      "source": [
        "# All packages have been imported for you\n",
        "\n",
        "import scipy\n",
        "\n",
        "import numpy as np\n",
        "import matplotlib.pyplot as plt\n",
        "\n",
        "from matplotlib import cm\n",
        "from scipy.stats import multivariate_normal\n",
        "from scipy.stats import norm\n",
        "from sklearn.gaussian_process.kernels import Matern, RBF\n",
        "from sklearn.gaussian_process import GaussianProcessRegressor\n",
        "\n",
        "rng = np.random.default_rng(12345)"
      ],
      "metadata": {
        "id": "KU1Hm4kqfJ2v"
      },
      "execution_count": null,
      "outputs": []
    },
    {
      "cell_type": "markdown",
      "source": [
        "# Problem 1: Multivariate distributions (50 points)\n",
        "\n",
        "Given a set of data generated from two Gaussian R.V. with distribution $\\mathcal{N} \\sim (\\mu, \\Sigma)$ where\n",
        "\n",
        "$$\\mu = \\begin{bmatrix}1\\\\2 \\end{bmatrix}, \\Sigma = \\begin{bmatrix}+0.8,\\quad-0.7\\\\-0.7,\\quad +2\\end{bmatrix}$$\n"
      ],
      "metadata": {
        "id": "pCe4DQ_yoKLz"
      }
    },
    {
      "cell_type": "markdown",
      "source": [
        "## Question 1.1A (10 Points)\n",
        "\n",
        "---\n",
        "\n",
        "\n",
        "\n",
        "Plot the contour of the joint density function.\n"
      ],
      "metadata": {
        "id": "AQ9oDy7voQ0l"
      }
    },
    {
      "cell_type": "code",
      "source": [
        "# Code for Question 1A goes in this block.\n",
        "####### START CODING FROM HERE ##########\n"
      ],
      "metadata": {
        "id": "TJlTZ_Mjo5kq"
      },
      "execution_count": null,
      "outputs": []
    },
    {
      "cell_type": "markdown",
      "source": [
        "## Question 1.1B (10 Points)\n",
        "\n",
        "Can you comment on the dependency between the two variables?\n",
        "\n"
      ],
      "metadata": {
        "id": "mDCEkxTnpaNe"
      }
    },
    {
      "cell_type": "markdown",
      "source": [
        "\n",
        "### Answer Question 1.1B goes below.\n",
        "\n",
        "`Answer below the dashed lines`(Double click on the line to add text)\n",
        "\n",
        "------------------------------------\n",
        "\n",
        "\n"
      ],
      "metadata": {
        "id": "btGQLs5zpcS3"
      }
    },
    {
      "cell_type": "markdown",
      "source": [
        "## Question 1.2A (10 Points)\n",
        "\n",
        "Generate 10 samples from the multivariate normal distribution and print the sample mean and sample variance of each component."
      ],
      "metadata": {
        "id": "oIrY6icid7pF"
      }
    },
    {
      "cell_type": "code",
      "source": [
        "# Code for Question 1.2A goes in this block.\n",
        "####### START CODING FROM HERE ##########"
      ],
      "metadata": {
        "id": "8jprtQU5eRZb"
      },
      "execution_count": null,
      "outputs": []
    },
    {
      "cell_type": "markdown",
      "source": [
        "## Question 1.2B (10 Points)\n",
        "\n",
        "Generate 500 samples from the multivariate normal distribution and print the sample mean and sample variance of each component.\n"
      ],
      "metadata": {
        "id": "tYINnWI3eWP8"
      }
    },
    {
      "cell_type": "code",
      "source": [
        "# Code for Question 1.2B goes in this block.\n",
        "####### START CODING FROM HERE ##########"
      ],
      "metadata": {
        "id": "U6FHLXoveclR"
      },
      "execution_count": null,
      "outputs": []
    },
    {
      "cell_type": "markdown",
      "source": [
        "## Question 1.2C (10 Points)\n",
        "\n",
        "What do you observe as the data size increases in terms of the sample mean and sample variance?"
      ],
      "metadata": {
        "id": "vFWxz6kVedLZ"
      }
    },
    {
      "cell_type": "markdown",
      "source": [
        "### Answer Question 1.2C goes below.\n",
        "\n",
        "`Answer below the dashed lines` (Double click on the line to add text)\n",
        "\n",
        "------------------------------------\n",
        "\n",
        "\n"
      ],
      "metadata": {
        "id": "FH5ZupZCer7b"
      }
    },
    {
      "cell_type": "markdown",
      "source": [
        "# Problem 2 (20 Points)\n",
        "\n",
        "You are given a 1d synthetic function which is defined as follows:\n",
        "\n",
        "$$f(x) = -0.1*x\\sin(x)\\cos(x)$$\n",
        "\n",
        "such that $x \\in[0, 10]$\n",
        "\n",
        "Please use the following kernel `Matern(length_scale_bounds=(1e-2,1e2))` kernel."
      ],
      "metadata": {
        "id": "lmCOlyuws_jn"
      }
    },
    {
      "cell_type": "markdown",
      "source": [
        "## Question 2.1 (5 Points)\n",
        "\n",
        "Generate 5 equidistant points and fit a GP. Predict the results over 1000 equidistant points and plot the true function values, mean prediction and the associated uncertainty."
      ],
      "metadata": {
        "id": "20pXqkTotXub"
      }
    },
    {
      "cell_type": "code",
      "source": [
        "# Code for Question 2.1 goes in this block.\n",
        "####### START CODING FROM HERE ##########"
      ],
      "metadata": {
        "id": "hq8_Zi2LtXuc"
      },
      "execution_count": null,
      "outputs": []
    },
    {
      "cell_type": "markdown",
      "source": [
        "## Question 2.2 (5 Points)\n",
        "\n",
        "Generate 15 equidistant points and fit a GP. Predict the results over 1000 equidistant points and plot the true function values, mean prediction and the associated uncertainty."
      ],
      "metadata": {
        "id": "TNzV0Qd0uPQN"
      }
    },
    {
      "cell_type": "code",
      "source": [
        "# Code for Question 2.2 goes in this block.\n",
        "####### START CODING FROM HERE ##########"
      ],
      "metadata": {
        "id": "8lCl035buPQO"
      },
      "execution_count": null,
      "outputs": []
    },
    {
      "cell_type": "markdown",
      "source": [
        "## Question 2.3 (10 Points)\n",
        "\n",
        "What difference do you notice in terms of prediction error?"
      ],
      "metadata": {
        "id": "8ZwUGMeDuPQO"
      }
    },
    {
      "cell_type": "markdown",
      "source": [
        "\n",
        "### Answer Question 2.3 goes below.\n",
        "\n",
        "`Answer below the dashed lines`(Double click on the line to add text)\n",
        "\n",
        "------------------------------------\n",
        "\n",
        "\n"
      ],
      "metadata": {
        "id": "Fyk7gGqmuPQO"
      }
    },
    {
      "cell_type": "markdown",
      "source": [
        "# Problem 3 (30 Points)\n",
        "\n",
        "You are given a 2d synthetic function which is defined as follows:\n",
        "\n",
        "$$f(x_1, x_2) = \\frac{(x_1^2 + x_2 - 11)^2 + (x_1 + x_2^2 - 7)^2}{800}$$\n",
        "\n",
        "such that $x_1, x_2 \\in[-5,5]$"
      ],
      "metadata": {
        "id": "7Z74bvpjxPBR"
      }
    },
    {
      "cell_type": "markdown",
      "source": [
        "## Question 3.1 (10 Points)\n",
        "\n",
        "Plot the surface of the function. Use 50 points per dimension to generate the grids for the plot."
      ],
      "metadata": {
        "id": "w9cH4A6SIwEG"
      }
    },
    {
      "cell_type": "code",
      "source": [
        "# Code for Question 3.1 goes in this block.\n",
        "####### START CODING FROM HERE ##########"
      ],
      "metadata": {
        "id": "vm3gDasUIwEG"
      },
      "execution_count": null,
      "outputs": []
    },
    {
      "cell_type": "markdown",
      "source": [
        "## Question 3.2A (5 Points)\n",
        "\n",
        "Generate 20 random points and fit a GP. Using the model, plot the prediction and the uncertainty on a grid generated by 50 equidistant points per dimension."
      ],
      "metadata": {
        "id": "GJ4cz9pExPBR"
      }
    },
    {
      "cell_type": "code",
      "source": [
        "# Code for Question 3.2A goes in this block.\n",
        "####### START CODING FROM HERE ##########"
      ],
      "metadata": {
        "id": "3SJtpEchxPBR"
      },
      "execution_count": null,
      "outputs": []
    },
    {
      "cell_type": "markdown",
      "source": [
        "## Question 3.2B (5 Points)\n",
        "\n",
        "Generate 50 random points and fit a GP. Using the model, plot the prediction and the uncertainty on a grid generated by 50 equidistant points per dimension."
      ],
      "metadata": {
        "id": "DQregzGCxPBR"
      }
    },
    {
      "cell_type": "code",
      "source": [
        "# Code for Question 3.2B goes in this block.\n",
        "####### START CODING FROM HERE ##########"
      ],
      "metadata": {
        "id": "Wnrt3xn0xPBS"
      },
      "execution_count": null,
      "outputs": []
    },
    {
      "cell_type": "markdown",
      "source": [
        "## Question 3.2C (10 Points)\n",
        "\n",
        "What difference do you notice in terms of prediction error?"
      ],
      "metadata": {
        "id": "S8AqPxZuxPBS"
      }
    },
    {
      "cell_type": "markdown",
      "source": [
        "\n",
        "### Answer Question 3.2C goes below.\n",
        "\n",
        "`Answer below the dashed lines`(Double click on the line to add text)\n",
        "\n",
        "------------------------------------\n",
        "\n",
        "\n"
      ],
      "metadata": {
        "id": "iG_O29xUxPBS"
      }
    }
  ]
}